{
 "cells": [
  {
   "cell_type": "markdown",
   "metadata": {},
   "source": [
    "This notebook illustrates the `NLP()` pipeline on all available languages.\n",
    "\n",
    "If dependency parse information is available, an example tree is printed, too."
   ]
  },
  {
   "cell_type": "code",
   "execution_count": 1,
   "metadata": {},
   "outputs": [],
   "source": [
    "from cltk import NLP\n",
    "from cltk.dependency.tree import DependencyTree\n",
    "from cltk.languages.example_texts import get_example_text\n",
    "from cltk.languages.pipelines import *"
   ]
  },
  {
   "cell_type": "code",
   "execution_count": 2,
   "metadata": {},
   "outputs": [],
   "source": [
    "iso_to_pipeline = {\n",
    "    \"akk\": AkkadianPipeline,\n",
    "    \"ang\": OldEnglishPipeline,\n",
    "    \"arb\": ArabicPipeline,\n",
    "    \"arc\": AramaicPipeline,\n",
    "    \"chu\": OCSPipeline,\n",
    "    \"cop\": CopticPipeline,\n",
    "    \"enm\": MiddleEnglishPipeline,\n",
    "    \"frm\": MiddleFrenchPipeline,\n",
    "    \"fro\": OldFrenchPipeline,\n",
    "    \"gmh\": MiddleHighGermanPipeline,\n",
    "    \"got\": GothicPipeline,\n",
    "    \"grc\": GreekPipeline,\n",
    "    \"hin\": HindiPipeline,\n",
    "    \"lat\": LatinPipeline,\n",
    "    \"lzh\": ChinesePipeline,\n",
    "    \"non\": OldNorsePipeline,\n",
    "    \"pan\": PanjabiPipeline,\n",
    "    \"pli\": PaliPipeline,\n",
    "    \"san\": SanskritPipeline,\n",
    "}"
   ]
  },
  {
   "cell_type": "code",
   "execution_count": 3,
   "metadata": {},
   "outputs": [
    {
     "ename": "AttributeError",
     "evalue": "type object 'AkkadianPipeline' has no attribute 'language'",
     "output_type": "error",
     "traceback": [
      "\u001b[0;31m---------------------------------------------------------------------------\u001b[0m",
      "\u001b[0;31mAttributeError\u001b[0m                            Traceback (most recent call last)",
      "Cell \u001b[0;32mIn[3], line 2\u001b[0m\n\u001b[1;32m      1\u001b[0m \u001b[38;5;28;01mfor\u001b[39;00m lang, pipeline \u001b[38;5;129;01min\u001b[39;00m iso_to_pipeline\u001b[38;5;241m.\u001b[39mitems():\n\u001b[0;32m----> 2\u001b[0m     \u001b[38;5;28mprint\u001b[39m(\u001b[38;5;124mf\u001b[39m\u001b[38;5;124m\"\u001b[39m\u001b[38;5;132;01m{\u001b[39;00m\u001b[43mpipeline\u001b[49m\u001b[38;5;241;43m.\u001b[39;49m\u001b[43mlanguage\u001b[49m\u001b[38;5;241m.\u001b[39mname\u001b[38;5;132;01m}\u001b[39;00m\u001b[38;5;124m (\u001b[39m\u001b[38;5;124m'\u001b[39m\u001b[38;5;132;01m{\u001b[39;00mpipeline\u001b[38;5;241m.\u001b[39mlanguage\u001b[38;5;241m.\u001b[39miso_639_3_code\u001b[38;5;132;01m}\u001b[39;00m\u001b[38;5;124m'\u001b[39m\u001b[38;5;124m) ...\u001b[39m\u001b[38;5;124m\"\u001b[39m)\n\u001b[1;32m      3\u001b[0m     text \u001b[38;5;241m=\u001b[39m get_example_text(lang)\n\u001b[1;32m      4\u001b[0m     cltk_nlp \u001b[38;5;241m=\u001b[39m NLP(language\u001b[38;5;241m=\u001b[39mlang)\n",
      "\u001b[0;31mAttributeError\u001b[0m: type object 'AkkadianPipeline' has no attribute 'language'"
     ]
    }
   ],
   "source": [
    "for lang, pipeline in iso_to_pipeline.items():\n",
    "    print(f\"{pipeline.language.name} ('{pipeline.language.iso_639_3_code}') ...\")\n",
    "    text = get_example_text(lang)\n",
    "    cltk_nlp = NLP(language=lang)\n",
    "    cltk_doc = cltk_nlp.analyze(text=text)\n",
    "    cltk_doc.sentences_strings\n",
    "    word = cltk_doc.sentences[0][0]\n",
    "    print(\"Example `Word`:\", word)\n",
    "    if all([w.features for w in cltk_doc.sentences[0]]):\n",
    "        print(\"Printing dependency tree of first sentence ...\")\n",
    "        try:\n",
    "            a_tree = DependencyTree.to_tree(cltk_doc.sentences[0])\n",
    "        except:\n",
    "            print(f\"Dependency parsing Process not available for '{lang}'.\")\n",
    "            print(\"\")\n",
    "            continue\n",
    "        a_tree.print_tree()\n",
    "    print(\"\")"
   ]
  }
 ],
 "metadata": {
  "kernelspec": {
   "display_name": "Python 3 (ipykernel)",
   "language": "python",
   "name": "python3"
  },
  "language_info": {
   "codemirror_mode": {
    "name": "ipython",
    "version": 3
   },
   "file_extension": ".py",
   "mimetype": "text/x-python",
   "name": "python",
   "nbconvert_exporter": "python",
   "pygments_lexer": "ipython3",
   "version": "3.11.6"
  }
 },
 "nbformat": 4,
 "nbformat_minor": 4
}
